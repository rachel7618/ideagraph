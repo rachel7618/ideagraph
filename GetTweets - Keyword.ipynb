{
 "cells": [
  {
   "cell_type": "code",
   "execution_count": 1,
   "id": "weird-burton",
   "metadata": {},
   "outputs": [
    {
     "name": "stdout",
     "output_type": "stream",
     "text": [
      "Collecting git+https://github.com/JustAnotherArchivist/snscrape.git\n",
      "  Cloning https://github.com/JustAnotherArchivist/snscrape.git to /private/var/folders/6z/3wcxhgqx7w55vmsn98y2l1700000gn/T/pip-req-build-pqv6awn9\n",
      "  Running command git clone -q https://github.com/JustAnotherArchivist/snscrape.git /private/var/folders/6z/3wcxhgqx7w55vmsn98y2l1700000gn/T/pip-req-build-pqv6awn9\n",
      "Requirement already satisfied: requests[socks] in /Users/xyy/opt/anaconda3/lib/python3.8/site-packages (from snscrape==0.3.5.dev121+gf9a3faf) (2.25.1)\n",
      "Requirement already satisfied: lxml in /Users/xyy/opt/anaconda3/lib/python3.8/site-packages (from snscrape==0.3.5.dev121+gf9a3faf) (4.6.3)\n",
      "Requirement already satisfied: beautifulsoup4 in /Users/xyy/opt/anaconda3/lib/python3.8/site-packages (from snscrape==0.3.5.dev121+gf9a3faf) (4.9.3)\n",
      "Requirement already satisfied: pytz in /Users/xyy/opt/anaconda3/lib/python3.8/site-packages (from snscrape==0.3.5.dev121+gf9a3faf) (2021.1)\n",
      "Requirement already satisfied: soupsieve>1.2 in /Users/xyy/opt/anaconda3/lib/python3.8/site-packages (from beautifulsoup4->snscrape==0.3.5.dev121+gf9a3faf) (2.2.1)\n",
      "Requirement already satisfied: idna<3,>=2.5 in /Users/xyy/opt/anaconda3/lib/python3.8/site-packages (from requests[socks]->snscrape==0.3.5.dev121+gf9a3faf) (2.10)\n",
      "Requirement already satisfied: chardet<5,>=3.0.2 in /Users/xyy/opt/anaconda3/lib/python3.8/site-packages (from requests[socks]->snscrape==0.3.5.dev121+gf9a3faf) (4.0.0)\n",
      "Requirement already satisfied: urllib3<1.27,>=1.21.1 in /Users/xyy/opt/anaconda3/lib/python3.8/site-packages (from requests[socks]->snscrape==0.3.5.dev121+gf9a3faf) (1.26.4)\n",
      "Requirement already satisfied: certifi>=2017.4.17 in /Users/xyy/opt/anaconda3/lib/python3.8/site-packages (from requests[socks]->snscrape==0.3.5.dev121+gf9a3faf) (2020.12.5)\n",
      "Requirement already satisfied: PySocks!=1.5.7,>=1.5.6 in /Users/xyy/opt/anaconda3/lib/python3.8/site-packages (from requests[socks]->snscrape==0.3.5.dev121+gf9a3faf) (1.7.1)\n",
      "Building wheels for collected packages: snscrape\n",
      "  Building wheel for snscrape (setup.py) ... \u001b[?25ldone\n",
      "\u001b[?25h  Created wheel for snscrape: filename=snscrape-0.3.5.dev121+gf9a3faf-py3-none-any.whl size=50988 sha256=70dbe6be790fe5ce063b7c15095a1524381cfb190e7ef9a9f1d290a37940e9e9\n",
      "  Stored in directory: /private/var/folders/6z/3wcxhgqx7w55vmsn98y2l1700000gn/T/pip-ephem-wheel-cache-gall58j9/wheels/92/42/87/33fa9b18f7a75d02643a9ca3743339aec9be28c6796267c7d8\n",
      "Successfully built snscrape\n",
      "Installing collected packages: snscrape\n",
      "Successfully installed snscrape-0.3.5.dev121+gf9a3faf\n"
     ]
    }
   ],
   "source": [
    "# Run the pip install command below if you don't already have the library\n",
    "!pip3 install git+https://github.com/JustAnotherArchivist/snscrape.git\n",
    "\n",
    "# Run the below command if you don't already have Pandas\n",
    "# !pip install pandas"
   ]
  },
  {
   "cell_type": "code",
   "execution_count": 2,
   "id": "imposed-botswana",
   "metadata": {},
   "outputs": [],
   "source": [
    "# Imports\n",
    "import snscrape.modules.twitter as sntwitter\n",
    "import pandas as pd"
   ]
  },
  {
   "cell_type": "code",
   "execution_count": null,
   "id": "selective-happiness",
   "metadata": {},
   "outputs": [],
   "source": [
    "# Setting variables to be used below\n",
    "maxTweets = 100000\n",
    "\n",
    "# Creating list to append tweet data to\n",
    "tweets_list = []\n",
    "\n",
    "# Using TwitterSearchScraper to scrape data and append tweets to list\n",
    "for i,tweet in enumerate(sntwitter.TwitterSearchScraper('#cliamtechange OR #climatecrisis OR #climateaction since:2021-05-01 until:2021-05-30 lang:en').get_items()):\n",
    "    if i>maxTweets:\n",
    "        break\n",
    "    tweets_list.append([tweet.date, tweet.id, tweet.content, tweet.lang, tweet.user.username, tweet.user.id])"
   ]
  },
  {
   "cell_type": "code",
   "execution_count": null,
   "id": "later-lyric",
   "metadata": {},
   "outputs": [],
   "source": [
    "# Creating a dataframe from the tweets list above\n",
    "tweets_df = pd.DataFrame(tweets_list, columns=['Datetime', 'Tweet Id', 'content', 'Language', 'Username', 'User ID'])\n",
    "\n",
    "# Display first 5 entries from dataframe\n",
    "tweets_df.head()"
   ]
  },
  {
   "cell_type": "code",
   "execution_count": null,
   "id": "hungry-helen",
   "metadata": {},
   "outputs": [],
   "source": [
    "tweets_df.shape"
   ]
  },
  {
   "cell_type": "code",
   "execution_count": null,
   "id": "disabled-institution",
   "metadata": {},
   "outputs": [],
   "source": [
    "# Export dataframe into a CSV\n",
    "tweets_df.to_csv('keyword-tweets.csv', sep=',', index=False)"
   ]
  },
  {
   "cell_type": "code",
   "execution_count": null,
   "id": "liberal-sessions",
   "metadata": {},
   "outputs": [],
   "source": []
  }
 ],
 "metadata": {
  "kernelspec": {
   "display_name": "Python 3",
   "language": "python",
   "name": "python3"
  },
  "language_info": {
   "codemirror_mode": {
    "name": "ipython",
    "version": 3
   },
   "file_extension": ".py",
   "mimetype": "text/x-python",
   "name": "python",
   "nbconvert_exporter": "python",
   "pygments_lexer": "ipython3",
   "version": "3.8.8"
  }
 },
 "nbformat": 4,
 "nbformat_minor": 5
}
